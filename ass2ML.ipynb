{
  "nbformat": 4,
  "nbformat_minor": 0,
  "metadata": {
    "colab": {
      "provenance": []
    },
    "kernelspec": {
      "name": "python3",
      "display_name": "Python 3"
    },
    "language_info": {
      "name": "python"
    }
  },
  "cells": [
    {
      "cell_type": "code",
      "source": [],
      "metadata": {
        "id": "H-bKVnJC65yN"
      },
      "execution_count": null,
      "outputs": []
    },
    {
      "cell_type": "code",
      "source": [
        "import pandas as pd\n",
        "df = pd.read_csv('AWCustomers.csv')"
      ],
      "metadata": {
        "id": "583dvGn9662m"
      },
      "execution_count": 4,
      "outputs": []
    },
    {
      "cell_type": "code",
      "source": [
        "# Display the column names in your DataFrame\n",
        "# (The to_string() method will display the entire DataFrame as a string without truncation.)\n",
        "print(df.head().to_string())"
      ],
      "metadata": {
        "colab": {
          "base_uri": "https://localhost:8080/"
        },
        "id": "dRpuIhME7Dph",
        "outputId": "403382e0-a47f-47d9-e957-701f9c358f9c"
      },
      "execution_count": 5,
      "outputs": [
        {
          "output_type": "stream",
          "name": "stdout",
          "text": [
            "   CustomerID Title FirstName MiddleName  LastName Suffix            AddressLine1 AddressLine2         City    StateProvinceName CountryRegionName PostalCode          PhoneNumber   BirthDate        Education      Occupation Gender MaritalStatus  HomeOwnerFlag  NumberCarsOwned  NumberChildrenAtHome  TotalChildren  YearlyIncome LastUpdated\n",
            "0       21173   NaN      Chad          C      Yuan    NaN      7090 C. Mount Hood          NaN   Wollongong      New South Wales         Australia       2500  1 (11) 500 555-0115  1987-11-13        Bachelors        Clerical      M             M              1                3                     0              1         81916  2017-03-06\n",
            "1       13249   NaN      Ryan        NaN     Perry    NaN     3651 Willow Lake Rd          NaN      Shawnee     British Columbia            Canada    V9B 2C3         787-555-0136  1972-07-21  Partial College        Clerical      M             M              1                2                     1              2         81076  2017-03-06\n",
            "2       29350   NaN     Julia        NaN  Thompson    NaN  1774 Tice Valley Blvd.          NaN  West Covina           California     United States      91791         120-555-0111  1985-11-09        Bachelors        Clerical      F             S              0                3                     0              0         86387  2017-03-06\n",
            "3       13503   NaN  Theodore        NaN     Gomez    NaN         2103 Baldwin Dr          NaN    Liverpool              England    United Kingdom     L4 4HB  1 (11) 500 555-0167  1977-10-18  Partial College  Skilled Manual      M             M              1                2                     1              2         61481  2017-03-06\n",
            "4       22803   NaN  Marshall          J      Shan    NaN         Am Gallberg 234          NaN        Werne  Nordrhein-Westfalen           Germany      59368  1 (11) 500 555-0113  1975-02-05  Partial College  Skilled Manual      M             S              1                1                     0              0         51804  2017-03-06\n"
          ]
        }
      ]
    },
    {
      "cell_type": "code",
      "source": [
        "# Part1.a,b.\n",
        "\n",
        "selected_columns = ['City', 'StateProvinceName', 'CountryRegionName', 'PostalCode', 'BirthDate','Education', 'Occupation', 'Gender', 'MaritalStatus','HomeOwnerFlag', 'NumberCarsOwned', 'NumberChildrenAtHome', 'TotalChildren','YearlyIncome']\n",
        "\n",
        "# checking for no of null values present\n",
        "null = df.isnull().sum()\n",
        "print(null)\n"
      ],
      "metadata": {
        "colab": {
          "base_uri": "https://localhost:8080/"
        },
        "id": "sJk3L3rH7N5T",
        "outputId": "cc2c2a10-f2b2-4b5c-9ce8-7bc806daba99"
      },
      "execution_count": 6,
      "outputs": [
        {
          "output_type": "stream",
          "name": "stdout",
          "text": [
            "CustomerID                  0\n",
            "Title                   18260\n",
            "FirstName                   0\n",
            "MiddleName               7789\n",
            "LastName                    0\n",
            "Suffix                  18358\n",
            "AddressLine1                0\n",
            "AddressLine2            18050\n",
            "City                        0\n",
            "StateProvinceName           0\n",
            "CountryRegionName           0\n",
            "PostalCode                  0\n",
            "PhoneNumber                 0\n",
            "BirthDate                   0\n",
            "Education                   0\n",
            "Occupation                  0\n",
            "Gender                      0\n",
            "MaritalStatus               0\n",
            "HomeOwnerFlag               0\n",
            "NumberCarsOwned             0\n",
            "NumberChildrenAtHome        0\n",
            "TotalChildren               0\n",
            "YearlyIncome                0\n",
            "LastUpdated                 0\n",
            "dtype: int64\n"
          ]
        }
      ]
    },
    {
      "cell_type": "code",
      "source": [
        "\n",
        "df_selected = df[selected_columns]\n",
        "print(df_selected.head().to_string())"
      ],
      "metadata": {
        "colab": {
          "base_uri": "https://localhost:8080/"
        },
        "id": "a8HOHHQl7Rid",
        "outputId": "2d5c790a-3923-4764-9ecf-e70ef8a58e82"
      },
      "execution_count": 7,
      "outputs": [
        {
          "output_type": "stream",
          "name": "stdout",
          "text": [
            "          City    StateProvinceName CountryRegionName PostalCode   BirthDate        Education      Occupation Gender MaritalStatus  HomeOwnerFlag  NumberCarsOwned  NumberChildrenAtHome  TotalChildren  YearlyIncome\n",
            "0   Wollongong      New South Wales         Australia       2500  1987-11-13        Bachelors        Clerical      M             M              1                3                     0              1         81916\n",
            "1      Shawnee     British Columbia            Canada    V9B 2C3  1972-07-21  Partial College        Clerical      M             M              1                2                     1              2         81076\n",
            "2  West Covina           California     United States      91791  1985-11-09        Bachelors        Clerical      F             S              0                3                     0              0         86387\n",
            "3    Liverpool              England    United Kingdom     L4 4HB  1977-10-18  Partial College  Skilled Manual      M             M              1                2                     1              2         61481\n",
            "4        Werne  Nordrhein-Westfalen           Germany      59368  1975-02-05  Partial College  Skilled Manual      M             S              1                1                     0              0         51804\n"
          ]
        }
      ]
    },
    {
      "cell_type": "code",
      "source": [
        "# Q1.c datatype(Discrete/Continuous) & measurement(Nominal, Ordinal, Interval, Ratio) for each attribute in df_selected\n",
        "\n",
        "df_Types_Scales = {'Attribute': [], 'Type': [], 'Scale': []}\n",
        "\n",
        "df_Types_Scales['Attribute'].extend(['City', 'StateProvinceName', 'CountryRegionName', 'PostalCode', 'BirthDate','Education', 'Occupation', 'Gender', 'MaritalStatus','HomeOwnerFlag', 'NumberCarsOwned', 'NumberChildrenAtHome', 'TotalChildren','YearlyIncome'])\n",
        "df_Types_Scales['Type'].extend(['Discrete', 'Discrete', 'Discrete', 'Discrete', 'Continuous','Discrete', 'Discrete', 'Discrete', 'Discrete','Discrete', 'Discrete', 'Discrete', 'Discrete','Continuous'])\n",
        "df_Types_Scales['Scale'].extend(['Nominal', 'Nominal', 'Nominal', 'Nominal', 'Interval','Ordinal', 'Nominal', 'Nominal', 'Nominal','Nominal', 'Ratio', 'Ratio', 'Ratio','Ratio'])\n",
        "\n",
        "# Create a DataFrame to display the information\n",
        "df_Types_Scales = pd.DataFrame(df_Types_Scales)\n",
        "\n",
        "# Display the data type and scale information\n",
        "print(df_Types_Scales.to_string(index=False))"
      ],
      "metadata": {
        "colab": {
          "base_uri": "https://localhost:8080/"
        },
        "id": "bT5jtuKe7YZ8",
        "outputId": "93700014-bb6e-47d3-e6be-a5eaad859d41"
      },
      "execution_count": 8,
      "outputs": [
        {
          "output_type": "stream",
          "name": "stdout",
          "text": [
            "           Attribute       Type    Scale\n",
            "                City   Discrete  Nominal\n",
            "   StateProvinceName   Discrete  Nominal\n",
            "   CountryRegionName   Discrete  Nominal\n",
            "          PostalCode   Discrete  Nominal\n",
            "           BirthDate Continuous Interval\n",
            "           Education   Discrete  Ordinal\n",
            "          Occupation   Discrete  Nominal\n",
            "              Gender   Discrete  Nominal\n",
            "       MaritalStatus   Discrete  Nominal\n",
            "       HomeOwnerFlag   Discrete  Nominal\n",
            "     NumberCarsOwned   Discrete    Ratio\n",
            "NumberChildrenAtHome   Discrete    Ratio\n",
            "       TotalChildren   Discrete    Ratio\n",
            "        YearlyIncome Continuous    Ratio\n"
          ]
        }
      ]
    },
    {
      "cell_type": "code",
      "source": [
        "# PartII. a.\n",
        "\n",
        "# checking for null values\n",
        "null = df_selected.isnull().sum()\n",
        "print(null)\n",
        "\n",
        "# In df_selected there are no colms with null values, so handing the null values in df\n",
        "\n",
        "# for a col having too many null values, drop it\n",
        "\n",
        "df = df.drop(columns=['Title', 'Suffix', 'AddressLine2']) # NULL VALUE ROW REMOVE\n",
        "print(df.head().to_string())\n",
        "\n",
        "# for categorical data(nominal, ordinal) Fill null values with the mode or a placeholder(like unknown)\n",
        "\n",
        "df['MiddleName'].fillna(\"Unknown\", inplace=True)\n",
        "df['Occupation'].fillna(df['Occupation'].mode()[0], inplace = True)\n",
        "print(df.head().to_string())\n",
        "\n",
        "# for continuous data(interval, ratio): Fill null values with mean, median, or placeholder like 0\n",
        "\n",
        "df['YearlyIncome'].fillna(df['YearlyIncome'].mean(), inplace = True)\n",
        "print(df.head().to_string())\n",
        "\n",
        "# verify if there are no null values\n",
        "\n",
        "null = df.isnull().sum() # . SUM TO CHECK TOTAL NULL VALUES IN A COLUMN\n",
        "print(null)"
      ],
      "metadata": {
        "colab": {
          "base_uri": "https://localhost:8080/"
        },
        "id": "5X6kpPWk7ewD",
        "outputId": "e2e737a9-cafd-4c6d-8b9d-48c93115bc1f"
      },
      "execution_count": 9,
      "outputs": [
        {
          "output_type": "stream",
          "name": "stdout",
          "text": [
            "City                    0\n",
            "StateProvinceName       0\n",
            "CountryRegionName       0\n",
            "PostalCode              0\n",
            "BirthDate               0\n",
            "Education               0\n",
            "Occupation              0\n",
            "Gender                  0\n",
            "MaritalStatus           0\n",
            "HomeOwnerFlag           0\n",
            "NumberCarsOwned         0\n",
            "NumberChildrenAtHome    0\n",
            "TotalChildren           0\n",
            "YearlyIncome            0\n",
            "dtype: int64\n",
            "   CustomerID FirstName MiddleName  LastName            AddressLine1         City    StateProvinceName CountryRegionName PostalCode          PhoneNumber   BirthDate        Education      Occupation Gender MaritalStatus  HomeOwnerFlag  NumberCarsOwned  NumberChildrenAtHome  TotalChildren  YearlyIncome LastUpdated\n",
            "0       21173      Chad          C      Yuan      7090 C. Mount Hood   Wollongong      New South Wales         Australia       2500  1 (11) 500 555-0115  1987-11-13        Bachelors        Clerical      M             M              1                3                     0              1         81916  2017-03-06\n",
            "1       13249      Ryan        NaN     Perry     3651 Willow Lake Rd      Shawnee     British Columbia            Canada    V9B 2C3         787-555-0136  1972-07-21  Partial College        Clerical      M             M              1                2                     1              2         81076  2017-03-06\n",
            "2       29350     Julia        NaN  Thompson  1774 Tice Valley Blvd.  West Covina           California     United States      91791         120-555-0111  1985-11-09        Bachelors        Clerical      F             S              0                3                     0              0         86387  2017-03-06\n",
            "3       13503  Theodore        NaN     Gomez         2103 Baldwin Dr    Liverpool              England    United Kingdom     L4 4HB  1 (11) 500 555-0167  1977-10-18  Partial College  Skilled Manual      M             M              1                2                     1              2         61481  2017-03-06\n",
            "4       22803  Marshall          J      Shan         Am Gallberg 234        Werne  Nordrhein-Westfalen           Germany      59368  1 (11) 500 555-0113  1975-02-05  Partial College  Skilled Manual      M             S              1                1                     0              0         51804  2017-03-06\n",
            "   CustomerID FirstName MiddleName  LastName            AddressLine1         City    StateProvinceName CountryRegionName PostalCode          PhoneNumber   BirthDate        Education      Occupation Gender MaritalStatus  HomeOwnerFlag  NumberCarsOwned  NumberChildrenAtHome  TotalChildren  YearlyIncome LastUpdated\n",
            "0       21173      Chad          C      Yuan      7090 C. Mount Hood   Wollongong      New South Wales         Australia       2500  1 (11) 500 555-0115  1987-11-13        Bachelors        Clerical      M             M              1                3                     0              1         81916  2017-03-06\n",
            "1       13249      Ryan    Unknown     Perry     3651 Willow Lake Rd      Shawnee     British Columbia            Canada    V9B 2C3         787-555-0136  1972-07-21  Partial College        Clerical      M             M              1                2                     1              2         81076  2017-03-06\n",
            "2       29350     Julia    Unknown  Thompson  1774 Tice Valley Blvd.  West Covina           California     United States      91791         120-555-0111  1985-11-09        Bachelors        Clerical      F             S              0                3                     0              0         86387  2017-03-06\n",
            "3       13503  Theodore    Unknown     Gomez         2103 Baldwin Dr    Liverpool              England    United Kingdom     L4 4HB  1 (11) 500 555-0167  1977-10-18  Partial College  Skilled Manual      M             M              1                2                     1              2         61481  2017-03-06\n",
            "4       22803  Marshall          J      Shan         Am Gallberg 234        Werne  Nordrhein-Westfalen           Germany      59368  1 (11) 500 555-0113  1975-02-05  Partial College  Skilled Manual      M             S              1                1                     0              0         51804  2017-03-06\n",
            "   CustomerID FirstName MiddleName  LastName            AddressLine1         City    StateProvinceName CountryRegionName PostalCode          PhoneNumber   BirthDate        Education      Occupation Gender MaritalStatus  HomeOwnerFlag  NumberCarsOwned  NumberChildrenAtHome  TotalChildren  YearlyIncome LastUpdated\n",
            "0       21173      Chad          C      Yuan      7090 C. Mount Hood   Wollongong      New South Wales         Australia       2500  1 (11) 500 555-0115  1987-11-13        Bachelors        Clerical      M             M              1                3                     0              1         81916  2017-03-06\n",
            "1       13249      Ryan    Unknown     Perry     3651 Willow Lake Rd      Shawnee     British Columbia            Canada    V9B 2C3         787-555-0136  1972-07-21  Partial College        Clerical      M             M              1                2                     1              2         81076  2017-03-06\n",
            "2       29350     Julia    Unknown  Thompson  1774 Tice Valley Blvd.  West Covina           California     United States      91791         120-555-0111  1985-11-09        Bachelors        Clerical      F             S              0                3                     0              0         86387  2017-03-06\n",
            "3       13503  Theodore    Unknown     Gomez         2103 Baldwin Dr    Liverpool              England    United Kingdom     L4 4HB  1 (11) 500 555-0167  1977-10-18  Partial College  Skilled Manual      M             M              1                2                     1              2         61481  2017-03-06\n",
            "4       22803  Marshall          J      Shan         Am Gallberg 234        Werne  Nordrhein-Westfalen           Germany      59368  1 (11) 500 555-0113  1975-02-05  Partial College  Skilled Manual      M             S              1                1                     0              0         51804  2017-03-06\n",
            "CustomerID              0\n",
            "FirstName               0\n",
            "MiddleName              0\n",
            "LastName                0\n",
            "AddressLine1            0\n",
            "City                    0\n",
            "StateProvinceName       0\n",
            "CountryRegionName       0\n",
            "PostalCode              0\n",
            "PhoneNumber             0\n",
            "BirthDate               0\n",
            "Education               0\n",
            "Occupation              0\n",
            "Gender                  0\n",
            "MaritalStatus           0\n",
            "HomeOwnerFlag           0\n",
            "NumberCarsOwned         0\n",
            "NumberChildrenAtHome    0\n",
            "TotalChildren           0\n",
            "YearlyIncome            0\n",
            "LastUpdated             0\n",
            "dtype: int64\n"
          ]
        },
        {
          "output_type": "stream",
          "name": "stderr",
          "text": [
            "<ipython-input-9-d741d6543fb9>:16: FutureWarning: A value is trying to be set on a copy of a DataFrame or Series through chained assignment using an inplace method.\n",
            "The behavior will change in pandas 3.0. This inplace method will never work because the intermediate object on which we are setting values always behaves as a copy.\n",
            "\n",
            "For example, when doing 'df[col].method(value, inplace=True)', try using 'df.method({col: value}, inplace=True)' or df[col] = df[col].method(value) instead, to perform the operation inplace on the original object.\n",
            "\n",
            "\n",
            "  df['MiddleName'].fillna(\"Unknown\", inplace=True)\n",
            "<ipython-input-9-d741d6543fb9>:17: FutureWarning: A value is trying to be set on a copy of a DataFrame or Series through chained assignment using an inplace method.\n",
            "The behavior will change in pandas 3.0. This inplace method will never work because the intermediate object on which we are setting values always behaves as a copy.\n",
            "\n",
            "For example, when doing 'df[col].method(value, inplace=True)', try using 'df.method({col: value}, inplace=True)' or df[col] = df[col].method(value) instead, to perform the operation inplace on the original object.\n",
            "\n",
            "\n",
            "  df['Occupation'].fillna(df['Occupation'].mode()[0], inplace = True)\n",
            "<ipython-input-9-d741d6543fb9>:22: FutureWarning: A value is trying to be set on a copy of a DataFrame or Series through chained assignment using an inplace method.\n",
            "The behavior will change in pandas 3.0. This inplace method will never work because the intermediate object on which we are setting values always behaves as a copy.\n",
            "\n",
            "For example, when doing 'df[col].method(value, inplace=True)', try using 'df.method({col: value}, inplace=True)' or df[col] = df[col].method(value) instead, to perform the operation inplace on the original object.\n",
            "\n",
            "\n",
            "  df['YearlyIncome'].fillna(df['YearlyIncome'].mean(), inplace = True)\n"
          ]
        }
      ]
    },
    {
      "cell_type": "code",
      "source": [],
      "metadata": {
        "id": "vtbMTS0PSpI1"
      },
      "execution_count": null,
      "outputs": []
    },
    {
      "cell_type": "code",
      "source": [
        "# II. b. Normalization\n",
        "# (Normalization is the process of scaling numerical data to a common range without distorting differences in the ranges of values.)\n",
        "\n",
        "# finding numerical colms\n",
        "\n",
        "numerical_colm = df_selected.select_dtypes(include=['int64', 'float64']).columns\n",
        "\n",
        "print(\"Numerical cols: \", numerical_colm)\n",
        "\n",
        "#  normalize using Min-Max Scaling\n",
        "\n",
        "from sklearn.preprocessing import MinMaxScaler\n",
        "scaler = MinMaxScaler()  #initialse the minMaxScaler\n",
        "\n",
        "numerical_colms = ['HomeOwnerFlag', 'NumberCarsOwned', 'NumberChildrenAtHome',\n",
        "       'TotalChildren', 'YearlyIncome']\n",
        "df_selected[numerical_colms] = scaler.fit_transform(df_selected[numerical_colms])\n",
        "\n",
        "print(df_selected.head().to_string())\n",
        "\n",
        "print(df_selected[numerical_colms].describe().to_string())\n",
        "\n",
        "# normalize yearly income using Z-score normalizn. (Standadization)\n",
        "\n",
        "from sklearn.preprocessing import StandardScaler\n",
        "scaler = StandardScaler()\n",
        "\n",
        "colm = 'YearlyIncome'\n",
        "df_selected[colm] = scaler.fit_transform(df_selected[[colm]])\n",
        "\n",
        "df_selected[colm].head()"
      ],
      "metadata": {
        "colab": {
          "base_uri": "https://localhost:8080/",
          "height": 573
        },
        "id": "0xk98ppR7gqz",
        "outputId": "cc8147a2-578e-462f-f317-56ca826bd77e"
      },
      "execution_count": 10,
      "outputs": [
        {
          "output_type": "stream",
          "name": "stdout",
          "text": [
            "Numerical cols:  Index(['HomeOwnerFlag', 'NumberCarsOwned', 'NumberChildrenAtHome',\n",
            "       'TotalChildren', 'YearlyIncome'],\n",
            "      dtype='object')\n",
            "          City    StateProvinceName CountryRegionName PostalCode   BirthDate        Education      Occupation Gender MaritalStatus  HomeOwnerFlag  NumberCarsOwned  NumberChildrenAtHome  TotalChildren  YearlyIncome\n",
            "0   Wollongong      New South Wales         Australia       2500  1987-11-13        Bachelors        Clerical      M             M            1.0              0.6              0.000000       0.333333      0.496842\n",
            "1      Shawnee     British Columbia            Canada    V9B 2C3  1972-07-21  Partial College        Clerical      M             M            1.0              0.4              0.333333       0.666667      0.489453\n",
            "2  West Covina           California     United States      91791  1985-11-09        Bachelors        Clerical      F             S            0.0              0.6              0.000000       0.000000      0.536172\n",
            "3    Liverpool              England    United Kingdom     L4 4HB  1977-10-18  Partial College  Skilled Manual      M             M            1.0              0.4              0.333333       0.666667      0.317083\n",
            "4        Werne  Nordrhein-Westfalen           Germany      59368  1975-02-05  Partial College  Skilled Manual      M             S            1.0              0.2              0.000000       0.000000      0.231958\n",
            "       HomeOwnerFlag  NumberCarsOwned  NumberChildrenAtHome  TotalChildren  YearlyIncome\n",
            "count   18361.000000     18361.000000          18361.000000   18361.000000  18361.000000\n",
            "mean        0.610588         0.254060              0.112721       0.283463      0.416254\n",
            "std         0.487630         0.182798              0.189652       0.309105      0.269933\n",
            "min         0.000000         0.000000              0.000000       0.000000      0.000000\n",
            "25%         0.000000         0.200000              0.000000       0.000000      0.245223\n",
            "50%         1.000000         0.200000              0.000000       0.000000      0.320338\n",
            "75%         1.000000         0.400000              0.333333       0.666667      0.545171\n",
            "max         1.000000         1.000000              1.000000       1.000000      1.000000\n"
          ]
        },
        {
          "output_type": "execute_result",
          "data": {
            "text/plain": [
              "0    0.298555\n",
              "1    0.271180\n",
              "2    0.444261\n",
              "3   -0.367401\n",
              "4   -0.682765\n",
              "Name: YearlyIncome, dtype: float64"
            ],
            "text/html": [
              "<div>\n",
              "<style scoped>\n",
              "    .dataframe tbody tr th:only-of-type {\n",
              "        vertical-align: middle;\n",
              "    }\n",
              "\n",
              "    .dataframe tbody tr th {\n",
              "        vertical-align: top;\n",
              "    }\n",
              "\n",
              "    .dataframe thead th {\n",
              "        text-align: right;\n",
              "    }\n",
              "</style>\n",
              "<table border=\"1\" class=\"dataframe\">\n",
              "  <thead>\n",
              "    <tr style=\"text-align: right;\">\n",
              "      <th></th>\n",
              "      <th>YearlyIncome</th>\n",
              "    </tr>\n",
              "  </thead>\n",
              "  <tbody>\n",
              "    <tr>\n",
              "      <th>0</th>\n",
              "      <td>0.298555</td>\n",
              "    </tr>\n",
              "    <tr>\n",
              "      <th>1</th>\n",
              "      <td>0.271180</td>\n",
              "    </tr>\n",
              "    <tr>\n",
              "      <th>2</th>\n",
              "      <td>0.444261</td>\n",
              "    </tr>\n",
              "    <tr>\n",
              "      <th>3</th>\n",
              "      <td>-0.367401</td>\n",
              "    </tr>\n",
              "    <tr>\n",
              "      <th>4</th>\n",
              "      <td>-0.682765</td>\n",
              "    </tr>\n",
              "  </tbody>\n",
              "</table>\n",
              "</div><br><label><b>dtype:</b> float64</label>"
            ]
          },
          "metadata": {},
          "execution_count": 10
        }
      ]
    },
    {
      "cell_type": "code",
      "source": [
        "\n",
        "\n",
        "# II.c. Discretization (binning) is the process of converting continuous data into discrete bins or intervals.\n",
        "\n",
        "bins = [0, 40000, 80000, 120000]\n",
        "labels = ['Low', 'Medium', 'High']\n",
        "\n",
        "df_selected['IncomeCategory'] = pd.cut(df_selected['YearlyIncome'], bins=bins, labels=labels, include_lowest=True)\n",
        "\n",
        "print(df_selected[['YearlyIncome', 'IncomeCategory']].head().to_string())"
      ],
      "metadata": {
        "colab": {
          "base_uri": "https://localhost:8080/"
        },
        "id": "80l23H2d7lg4",
        "outputId": "540193b7-6b7e-46f9-a796-a20099dedd21"
      },
      "execution_count": 11,
      "outputs": [
        {
          "output_type": "stream",
          "name": "stdout",
          "text": [
            "   YearlyIncome IncomeCategory\n",
            "0      0.298555            Low\n",
            "1      0.271180            Low\n",
            "2      0.444261            Low\n",
            "3     -0.367401            NaN\n",
            "4     -0.682765            NaN\n"
          ]
        }
      ]
    },
    {
      "cell_type": "code",
      "source": [
        "# II.d Standardization/Normalization\n",
        "\n",
        "from sklearn.preprocessing import StandardScaler\n",
        "scaler = StandardScaler()\n",
        "\n",
        "df_selected['TotalChildren_standardized'] = scaler.fit_transform(df_selected[['TotalChildren']])\n",
        "\n",
        "print(df_selected[['TotalChildren', 'TotalChildren_standardized']].head().to_string())"
      ],
      "metadata": {
        "colab": {
          "base_uri": "https://localhost:8080/"
        },
        "id": "3b0-Z2WVD4fw",
        "outputId": "7458c6b0-9655-423a-f13b-d62d8dbbfad0"
      },
      "execution_count": 12,
      "outputs": [
        {
          "output_type": "stream",
          "name": "stdout",
          "text": [
            "   TotalChildren  TotalChildren_standardized\n",
            "0       0.333333                    0.161342\n",
            "1       0.666667                    1.239753\n",
            "2       0.000000                   -0.917069\n",
            "3       0.666667                    1.239753\n",
            "4       0.000000                   -0.917069\n"
          ]
        }
      ]
    },
    {
      "cell_type": "code",
      "source": [
        "# II.e. One Hot Encoding\n",
        "\n",
        "# Perform one hot encoding on 'Education' and 'Occupation'\n",
        "df_selected = pd.get_dummies(df_selected, columns=['Education', 'Occupation'], drop_first=True)\n",
        "\n",
        "# Verify the result by printing the first few rows\n",
        "print(df_selected.head().to_string())"
      ],
      "metadata": {
        "colab": {
          "base_uri": "https://localhost:8080/"
        },
        "id": "gBGPuvMVD7yZ",
        "outputId": "0c901edb-1930-4a86-ee27-ec2f6300a683"
      },
      "execution_count": 13,
      "outputs": [
        {
          "output_type": "stream",
          "name": "stdout",
          "text": [
            "          City    StateProvinceName CountryRegionName PostalCode   BirthDate Gender MaritalStatus  HomeOwnerFlag  NumberCarsOwned  NumberChildrenAtHome  TotalChildren  YearlyIncome IncomeCategory  TotalChildren_standardized  Education_Graduate Degree  Education_High School  Education_Partial College  Education_Partial High School  Occupation_Management  Occupation_Manual  Occupation_Professional  Occupation_Skilled Manual\n",
            "0   Wollongong      New South Wales         Australia       2500  1987-11-13      M             M            1.0              0.6              0.000000       0.333333      0.298555            Low                    0.161342                      False                  False                      False                          False                  False              False                    False                      False\n",
            "1      Shawnee     British Columbia            Canada    V9B 2C3  1972-07-21      M             M            1.0              0.4              0.333333       0.666667      0.271180            Low                    1.239753                      False                  False                       True                          False                  False              False                    False                      False\n",
            "2  West Covina           California     United States      91791  1985-11-09      F             S            0.0              0.6              0.000000       0.000000      0.444261            Low                   -0.917069                      False                  False                      False                          False                  False              False                    False                      False\n",
            "3    Liverpool              England    United Kingdom     L4 4HB  1977-10-18      M             M            1.0              0.4              0.333333       0.666667     -0.367401            NaN                    1.239753                      False                  False                       True                          False                  False              False                    False                       True\n",
            "4        Werne  Nordrhein-Westfalen           Germany      59368  1975-02-05      M             S            1.0              0.2              0.000000       0.000000     -0.682765            NaN                   -0.917069                      False                  False                       True                          False                  False              False                    False                       True\n"
          ]
        }
      ]
    },
    {
      "cell_type": "code",
      "source": [
        "import pandas as pd\n",
        "from sklearn.metrics import jaccard_score\n",
        "from sklearn.metrics.pairwise import cosine_similarity\n",
        "\n",
        "# Load your dataset\n",
        "data = pd.read_csv('AWCustomers.csv')\n",
        "\n",
        "# Select features\n",
        "yearly_income = data['YearlyIncome']  # Numeric feature\n",
        "number_cars_owned = data['NumberCarsOwned']  # Numeric feature\n",
        "\n",
        "# Calculate Pearson Correlation\n",
        "correlation = yearly_income.corr(number_cars_owned)\n",
        "\n",
        "# Calculate Cosine Similarity (reshape needed)\n",
        "cosine = cosine_similarity(yearly_income.values.reshape(1, -1),\n",
        "                           number_cars_owned.values.reshape(1, -1))[0][0]\n",
        "\n",
        "# Convert to binary for Jaccard (simplified)\n",
        "# Note: Jaccard is usually for binary data, here we'll create binary arrays\n",
        "yearly_income_binary = (yearly_income > 0).astype(int)\n",
        "number_cars_owned_binary = (number_cars_owned > 0).astype(int)\n",
        "\n",
        "# Calculate Jaccard Similarity\n",
        "jaccard = jaccard_score(yearly_income_binary, number_cars_owned_binary)\n",
        "\n",
        "# Print results\n",
        "print(\"Pearson Correlation:\", correlation)\n",
        "print(\"Cosine Similarity:\", cosine)\n",
        "print(\"Jaccard Similarity:\", jaccard)\n"
      ],
      "metadata": {
        "colab": {
          "base_uri": "https://localhost:8080/"
        },
        "id": "ujFStqogSqmo",
        "outputId": "b1b70521-e2d5-47a5-f3db-235cdbee8397"
      },
      "execution_count": 19,
      "outputs": [
        {
          "output_type": "stream",
          "name": "stdout",
          "text": [
            "Pearson Correlation: 0.4773001523631696\n",
            "Cosine Similarity: 0.8562597460433855\n",
            "Jaccard Similarity: 0.7861227601982462\n"
          ]
        }
      ]
    }
  ]
}