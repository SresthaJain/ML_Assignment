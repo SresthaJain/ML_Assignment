{
  "nbformat": 4,
  "nbformat_minor": 0,
  "metadata": {
    "colab": {
      "provenance": []
    },
    "kernelspec": {
      "name": "python3",
      "display_name": "Python 3"
    },
    "language_info": {
      "name": "python"
    }
  },
  "cells": [
    {
      "cell_type": "code",
      "execution_count": 6,
      "metadata": {
        "id": "4JMG7UUaVAQA"
      },
      "outputs": [],
      "source": [
        "\n"
      ]
    },
    {
      "cell_type": "markdown",
      "source": [
        "**QUESTION 1**"
      ],
      "metadata": {
        "id": "Nz2mru5CWY_T"
      }
    },
    {
      "cell_type": "code",
      "source": [
        "import pandas as pd\n",
        "from sklearn.model_selection import KFold\n",
        "from sklearn.preprocessing import StandardScaler\n",
        "from sklearn.metrics import r2_score\n",
        "import numpy as np\n",
        "\n",
        "data = pd.read_csv('USA_Housing.csv')\n",
        "\n",
        "print(data.columns)\n",
        "\n",
        "X = data.drop(columns=['Price'])  # Changed 'price' to 'Price'\n",
        "y = data['Price']  # Changed 'price' to 'Price'"
      ],
      "metadata": {
        "colab": {
          "base_uri": "https://localhost:8080/"
        },
        "id": "J6_Yi_qbVklv",
        "outputId": "a2249904-cfbb-4c82-fe73-8c78e7d09a1a"
      },
      "execution_count": 12,
      "outputs": [
        {
          "output_type": "stream",
          "name": "stdout",
          "text": [
            "Index(['Avg. Area Income', 'Avg. Area House Age', 'Avg. Area Number of Rooms',\n",
            "       'Avg. Area Number of Bedrooms', 'Area Population', 'Price'],\n",
            "      dtype='object')\n"
          ]
        }
      ]
    },
    {
      "cell_type": "code",
      "source": [
        "scaler = StandardScaler()\n",
        "X_scaled = scaler.fit_transform(X)\n"
      ],
      "metadata": {
        "id": "ooQKPb3qWGZE"
      },
      "execution_count": 13,
      "outputs": []
    },
    {
      "cell_type": "code",
      "source": [
        "kf = KFold(n_splits=5)\n"
      ],
      "metadata": {
        "id": "IgvsJXouWIp2"
      },
      "execution_count": 14,
      "outputs": []
    },
    {
      "cell_type": "code",
      "source": [
        "beta_matrices = []\n",
        "r2_scores = []\n",
        "\n",
        "for train_index, test_index in kf.split(X_scaled):\n",
        "    X_train, X_test = X_scaled[train_index], X_scaled[test_index]\n",
        "    y_train, y_test = y.iloc[train_index], y.iloc[test_index]\n",
        "\n",
        "    # Least Squares Fit\n",
        "    X_train_biased = np.hstack((np.ones((X_train.shape[0], 1)), X_train))\n",
        "    beta = np.linalg.inv(X_train_biased.T @ X_train_biased) @ (X_train_biased.T @ y_train)\n",
        "    beta_matrices.append(beta)\n",
        "\n",
        "    # Predictions\n",
        "    X_test_biased = np.hstack((np.ones((X_test.shape[0], 1)), X_test))\n",
        "    y_pred = X_test_biased @ beta\n",
        "\n",
        "    # R² Score\n",
        "    r2 = r2_score(y_test, y_pred)\n",
        "    r2_scores.append(r2)\n",
        "\n",
        "best_index = np.argmax(r2_scores)\n",
        "best_beta = beta_matrices[best_index]\n",
        "\n",
        "print(\"Best R² Score:\", r2_scores[best_index])\n",
        "print(\"Best Beta Matrix:\", best_beta)\n"
      ],
      "metadata": {
        "colab": {
          "base_uri": "https://localhost:8080/"
        },
        "id": "6MOfxCemWKKO",
        "outputId": "f5063dc7-2a7f-4f1d-e481-de57b2514c0d"
      },
      "execution_count": 15,
      "outputs": [
        {
          "output_type": "stream",
          "name": "stdout",
          "text": [
            "Best R² Score: 0.9208503836977655\n",
            "Best Beta Matrix: [1.23144707e+06 2.29921558e+05 1.64523054e+05 1.19737507e+05\n",
            " 1.12425659e+03 1.51317802e+05]\n"
          ]
        }
      ]
    },
    {
      "cell_type": "code",
      "source": [
        "# Train-test split (70% train, 30% test)\n",
        "train_size = int(0.7 * len(data))\n",
        "X_train, X_test = X_scaled[:train_size], X_scaled[train_size:]\n",
        "y_train, y_test = y[:train_size], y[train_size:]\n",
        "\n",
        "# Train using the best beta\n",
        "X_train_biased = np.hstack((np.ones((X_train.shape[0], 1)), X_train))\n",
        "best_model = np.linalg.inv(X_train_biased.T @ X_train_biased) @ (X_train_biased.T @ y_train)\n",
        "\n",
        "# Test performance\n",
        "X_test_biased = np.hstack((np.ones((X_test.shape[0], 1)), X_test))\n",
        "y_pred_test = X_test_biased @ best_model\n",
        "test_r2 = r2_score(y_test, y_pred_test)\n",
        "\n",
        "print(\"Test R² Score with Best Model:\", test_r2)\n"
      ],
      "metadata": {
        "colab": {
          "base_uri": "https://localhost:8080/"
        },
        "id": "oNNbrGjbWNKq",
        "outputId": "2376d7e5-7013-4ef9-af3e-34f8951825fd"
      },
      "execution_count": 16,
      "outputs": [
        {
          "output_type": "stream",
          "name": "stdout",
          "text": [
            "Test R² Score with Best Model: 0.9176499755975894\n"
          ]
        }
      ]
    },
    {
      "cell_type": "code",
      "source": [],
      "metadata": {
        "id": "yshJssapWhKm"
      },
      "execution_count": null,
      "outputs": []
    },
    {
      "cell_type": "markdown",
      "source": [
        "**QUESTION 2**"
      ],
      "metadata": {
        "id": "TQG2dO_7WhWq"
      }
    },
    {
      "cell_type": "code",
      "source": [
        "\n",
        "from sklearn.model_selection import train_test_split\n",
        "\n",
        "# Split the dataset into training (56%), validation (14%), and test (30%)\n",
        "X_train, X_temp, y_train, y_temp = train_test_split(X, y, test_size=0.44, random_state=42)  # 44% for validation + test\n",
        "X_val, X_test, y_val, y_test = train_test_split(X_temp, y_temp, test_size=0.68, random_state=42)  # 30% test"
      ],
      "metadata": {
        "id": "UUzU7mBBWlp6"
      },
      "execution_count": 20,
      "outputs": []
    },
    {
      "cell_type": "code",
      "source": [
        "def gradient_descent(X, y, learning_rate, iterations):\n",
        "    m, n = X.shape\n",
        "    X_biased = np.hstack((np.ones((m, 1)), X))  # Add bias term\n",
        "    beta = np.zeros(n + 1)  # Initialize coefficients\n",
        "\n",
        "    for _ in range(iterations):\n",
        "        gradients = (2/m) * X_biased.T @ (X_biased @ beta - y)\n",
        "        beta -= learning_rate * gradients\n",
        "    return beta\n"
      ],
      "metadata": {
        "id": "pVlQzDppWzhY"
      },
      "execution_count": 21,
      "outputs": []
    },
    {
      "cell_type": "code",
      "source": [
        "import numpy as np\n",
        "from sklearn.metrics import r2_score\n",
        "\n",
        "def gradient_descent(X, y, learning_rate, iterations):\n",
        "    m, n = X.shape\n",
        "    X_biased = np.hstack((np.ones((m, 1)), X))  # Add bias term\n",
        "    beta = np.zeros(n + 1)  # Initialize coefficients\n",
        "\n",
        "    for _ in range(iterations):\n",
        "        gradients = (2/m) * X_biased.T @ (X_biased @ beta - y)\n",
        "        beta -= learning_rate * gradients\n",
        "\n",
        "        # Check if beta contains NaN and break if True\n",
        "        if np.isnan(beta).any():\n",
        "            print(f\"Gradient descent diverged with learning rate: {learning_rate}. Try a smaller learning rate.\")\n",
        "            break  # Exit the loop if NaN is encountered\n",
        "\n",
        "    return beta\n",
        "\n",
        "# Step 4: Train the Model with Different Learning Rates\n",
        "learning_rates = [0.001, 0.01, 0.1, 1]\n",
        "results = {}\n",
        "\n",
        "for lr in learning_rates:\n",
        "    # Train using gradient descent\n",
        "    beta = gradient_descent(X_train.values, y_train.values, lr, 1000)\n",
        "\n",
        "    # Check if beta contains NaN and skip if True\n",
        "    if np.isnan(beta).any():\n",
        "        continue  # Skip to the next learning rate if NaN is encountered\n",
        "\n",
        "    # R² for validation set\n",
        "    X_val_biased = np.hstack((np.ones((X_val.shape[0], 1)), X_val))\n",
        "    y_val_pred = X_val_biased @ beta\n",
        "    r2_val = r2_score(y_val, y_val_pred)\n",
        "\n",
        "    # R² for test set\n",
        "    X_test_biased = np.hstack((np.ones((X_test.shape[0], 1)), X_test))\n",
        "    y_test_pred = X_test_biased @ beta\n",
        "    r2_test = r2_score(y_test, y_test_pred)\n",
        "\n",
        "    results[lr] = (r2_val, r2_test, beta)\n",
        "\n",
        "# ... (rest of your code remains the same)"
      ],
      "metadata": {
        "colab": {
          "base_uri": "https://localhost:8080/"
        },
        "id": "o7kQyOXuW266",
        "outputId": "fce45372-c9d2-40d8-b7de-a7279f078324"
      },
      "execution_count": 24,
      "outputs": [
        {
          "output_type": "stream",
          "name": "stdout",
          "text": [
            "Gradient descent diverged with learning rate: 0.001. Try a smaller learning rate.\n",
            "Gradient descent diverged with learning rate: 0.01. Try a smaller learning rate.\n",
            "Gradient descent diverged with learning rate: 0.1. Try a smaller learning rate.\n",
            "Gradient descent diverged with learning rate: 1. Try a smaller learning rate.\n"
          ]
        },
        {
          "output_type": "stream",
          "name": "stderr",
          "text": [
            "<ipython-input-24-477caf3d7774>:10: RuntimeWarning: overflow encountered in matmul\n",
            "  gradients = (2/m) * X_biased.T @ (X_biased @ beta - y)\n",
            "<ipython-input-24-477caf3d7774>:11: RuntimeWarning: invalid value encountered in subtract\n",
            "  beta -= learning_rate * gradients\n"
          ]
        }
      ]
    },
    {
      "cell_type": "code",
      "source": [],
      "metadata": {
        "id": "6-XvTSWiXQwb"
      },
      "execution_count": null,
      "outputs": []
    },
    {
      "cell_type": "markdown",
      "source": [
        "**QUESTION 3 :- **"
      ],
      "metadata": {
        "id": "dvWsw0MsXb1H"
      }
    },
    {
      "cell_type": "code",
      "source": [
        "import pandas as pd\n",
        "import numpy as np\n",
        "\n",
        "# Define the column names\n",
        "column_names = [\"symboling\", \"normalized_losses\", \"make\", \"fuel_type\", \"aspiration\",\n",
        "                \"num_doors\", \"body_style\", \"drive_wheels\", \"engine_location\",\n",
        "                \"wheel_base\", \"length\", \"width\", \"height\", \"curb_weight\",\n",
        "                \"engine_type\", \"num_cylinders\", \"engine_size\", \"fuel_system\",\n",
        "                \"bore\", \"stroke\", \"compression_ratio\", \"horsepower\",\n",
        "                \"peak_rpm\", \"city_mpg\", \"highway_mpg\", \"price\"]\n",
        "\n",
        "# Load the dataset\n",
        "url = \"https://archive.ics.uci.edu/ml/machine-learning-databases/autos/imports-85.data\"\n",
        "data = pd.read_csv(url, names=column_names, na_values='?')\n"
      ],
      "metadata": {
        "id": "qKW_MqpcXfzx"
      },
      "execution_count": 25,
      "outputs": []
    },
    {
      "cell_type": "code",
      "source": [
        "# Check for missing values\n",
        "print(\"Missing values before processing:\")\n",
        "print(data.isnull().sum())\n",
        "\n",
        "# Fill NaN values with the mean for numeric columns\n",
        "numeric_cols = data.select_dtypes(include=[np.number]).columns\n",
        "data[numeric_cols] = data[numeric_cols].fillna(data[numeric_cols].mean())\n",
        "\n",
        "# Fill NaN values for non-numeric columns with the mode (most frequent value)\n",
        "categorical_cols = data.select_dtypes(exclude=[np.number]).columns\n",
        "for col in categorical_cols:\n",
        "    data[col].fillna(data[col].mode()[0], inplace=True)\n",
        "\n",
        "# Check again for missing values to confirm\n",
        "print(\"Missing values after processing:\")\n",
        "print(data.isnull().sum())\n",
        "\n",
        "# Drop rows with NaN in the 'price' column\n",
        "data.dropna(subset=['price'], inplace=True)\n",
        "\n",
        "# Verify the final shape of the dataset\n",
        "print(\"Final dataset shape:\", data.shape)\n"
      ],
      "metadata": {
        "colab": {
          "base_uri": "https://localhost:8080/"
        },
        "id": "W7m4pGMDXjxr",
        "outputId": "dde77856-fc0b-42c6-fb67-911dba98ff41"
      },
      "execution_count": 31,
      "outputs": [
        {
          "output_type": "stream",
          "name": "stdout",
          "text": [
            "Missing values before processing:\n",
            "symboling            0\n",
            "normalized_losses    0\n",
            "make                 0\n",
            "fuel_type            0\n",
            "aspiration           0\n",
            "num_doors            2\n",
            "body_style           0\n",
            "drive_wheels         0\n",
            "engine_location      0\n",
            "wheel_base           0\n",
            "length               0\n",
            "width                0\n",
            "height               0\n",
            "curb_weight          0\n",
            "engine_type          0\n",
            "num_cylinders        0\n",
            "engine_size          0\n",
            "fuel_system          0\n",
            "bore                 0\n",
            "stroke               0\n",
            "compression_ratio    0\n",
            "horsepower           0\n",
            "peak_rpm             0\n",
            "city_mpg             0\n",
            "highway_mpg          0\n",
            "price                0\n",
            "dtype: int64\n",
            "Missing values after processing:\n",
            "symboling            0\n",
            "normalized_losses    0\n",
            "make                 0\n",
            "fuel_type            0\n",
            "aspiration           0\n",
            "num_doors            0\n",
            "body_style           0\n",
            "drive_wheels         0\n",
            "engine_location      0\n",
            "wheel_base           0\n",
            "length               0\n",
            "width                0\n",
            "height               0\n",
            "curb_weight          0\n",
            "engine_type          0\n",
            "num_cylinders        0\n",
            "engine_size          0\n",
            "fuel_system          0\n",
            "bore                 0\n",
            "stroke               0\n",
            "compression_ratio    0\n",
            "horsepower           0\n",
            "peak_rpm             0\n",
            "city_mpg             0\n",
            "highway_mpg          0\n",
            "price                0\n",
            "dtype: int64\n",
            "Final dataset shape: (205, 26)\n"
          ]
        },
        {
          "output_type": "stream",
          "name": "stderr",
          "text": [
            "<ipython-input-31-d9c023653f05>:12: FutureWarning: A value is trying to be set on a copy of a DataFrame or Series through chained assignment using an inplace method.\n",
            "The behavior will change in pandas 3.0. This inplace method will never work because the intermediate object on which we are setting values always behaves as a copy.\n",
            "\n",
            "For example, when doing 'df[col].method(value, inplace=True)', try using 'df.method({col: value}, inplace=True)' or df[col] = df[col].method(value) instead, to perform the operation inplace on the original object.\n",
            "\n",
            "\n",
            "  data[col].fillna(data[col].mode()[0], inplace=True)\n"
          ]
        }
      ]
    },
    {
      "cell_type": "code",
      "source": [
        "# (i) For \"num_doors\" and \"num_cylinders\"\n",
        "data['num_doors'] = data['num_doors'].replace({'two': 2, 'four': 4})\n",
        "data['num_cylinders'] = data['num_cylinders'].replace({'two': 2, 'three': 3, 'four': 4,\n",
        "                                                       'five': 5, 'six': 6, 'eight': 8,\n",
        "                                                       'twelve': 12})\n",
        "\n",
        "# (ii) For \"body_style\" and \"drive_wheels\" using dummy encoding\n",
        "data = pd.get_dummies(data, columns=['body_style', 'drive_wheels'], drop_first=True)\n",
        "\n",
        "# (iii) For \"make\", \"aspiration\", \"engine_location\", \"fuel_type\" using label encoding\n",
        "from sklearn.preprocessing import LabelEncoder\n",
        "\n",
        "label_cols = ['make', 'aspiration', 'engine_location', 'fuel_type']\n",
        "le = LabelEncoder()\n",
        "\n",
        "for col in label_cols:\n",
        "    data[col] = le.fit_transform(data[col])\n",
        "\n",
        "# (iv) For \"fuel_system\"\n",
        "data['fuel_system'] = data['fuel_system'].str.contains('pfi').astype(int)\n",
        "\n",
        "# (v) For \"engine_type\"\n",
        "data['engine_type'] = data['engine_type'].str.contains('ohc').astype(int)\n"
      ],
      "metadata": {
        "colab": {
          "base_uri": "https://localhost:8080/"
        },
        "id": "D-CNZeHvYTiR",
        "outputId": "329eb464-0e0c-448b-c26b-4c124c574bdb"
      },
      "execution_count": 32,
      "outputs": [
        {
          "output_type": "stream",
          "name": "stderr",
          "text": [
            "<ipython-input-32-2f10cc154ea3>:2: FutureWarning: Downcasting behavior in `replace` is deprecated and will be removed in a future version. To retain the old behavior, explicitly call `result.infer_objects(copy=False)`. To opt-in to the future behavior, set `pd.set_option('future.no_silent_downcasting', True)`\n",
            "  data['num_doors'] = data['num_doors'].replace({'two': 2, 'four': 4})\n",
            "<ipython-input-32-2f10cc154ea3>:3: FutureWarning: Downcasting behavior in `replace` is deprecated and will be removed in a future version. To retain the old behavior, explicitly call `result.infer_objects(copy=False)`. To opt-in to the future behavior, set `pd.set_option('future.no_silent_downcasting', True)`\n",
            "  data['num_cylinders'] = data['num_cylinders'].replace({'two': 2, 'three': 3, 'four': 4,\n"
          ]
        }
      ]
    },
    {
      "cell_type": "code",
      "source": [
        "from sklearn.model_selection import train_test_split\n",
        "from sklearn.preprocessing import StandardScaler\n",
        "\n",
        "# Separate input features and output variable\n",
        "X = data.drop('price', axis=1)\n",
        "y = data['price']\n",
        "\n",
        "# Scale the input features\n",
        "scaler = StandardScaler()\n",
        "X_scaled = scaler.fit_transform(X)\n"
      ],
      "metadata": {
        "id": "beybMYAGYaxD"
      },
      "execution_count": 34,
      "outputs": []
    },
    {
      "cell_type": "code",
      "source": [
        "from sklearn.linear_model import LinearRegression\n",
        "from sklearn.metrics import mean_squared_error, r2_score\n",
        "\n",
        "# Split the data into training and testing sets\n",
        "X_train, X_test, y_train, y_test = train_test_split(X_scaled, y, test_size=0.3, random_state=42)\n",
        "\n",
        "# Train the linear regression model\n",
        "lr = LinearRegression()\n",
        "lr.fit(X_train, y_train)\n",
        "\n",
        "# Predict on the test set\n",
        "y_pred = lr.predict(X_test)\n",
        "\n",
        "# Evaluate performance\n",
        "mse = mean_squared_error(y_test, y_pred)\n",
        "r2 = r2_score(y_test, y_pred)\n",
        "\n",
        "print(f'MSE: {mse:.2f}, R^2: {r2:.2f}')\n"
      ],
      "metadata": {
        "colab": {
          "base_uri": "https://localhost:8080/"
        },
        "id": "Y5phRrMQYh_A",
        "outputId": "f6695635-2c89-4dc4-b4fb-a435f492225e"
      },
      "execution_count": 35,
      "outputs": [
        {
          "output_type": "stream",
          "name": "stdout",
          "text": [
            "MSE: 13422229.59, R^2: 0.80\n"
          ]
        }
      ]
    },
    {
      "cell_type": "code",
      "source": [
        "from sklearn.decomposition import PCA\n",
        "\n",
        "# Apply PCA\n",
        "pca = PCA(n_components=0.95)  # Keep 95% of the variance\n",
        "X_reduced = pca.fit_transform(X_scaled)\n",
        "\n",
        "# Split the reduced data\n",
        "X_train_reduced, X_test_reduced, y_train, y_test = train_test_split(X_reduced, y, test_size=0.3, random_state=42)\n",
        "\n",
        "# Train the linear regression model on reduced data\n",
        "lr_reduced = LinearRegression()\n",
        "lr_reduced.fit(X_train_reduced, y_train)\n",
        "\n",
        "# Predict on the test set\n",
        "y_pred_reduced = lr_reduced.predict(X_test_reduced)\n",
        "\n",
        "# Evaluate performance\n",
        "mse_reduced = mean_squared_error(y_test, y_pred_reduced)\n",
        "r2_reduced = r2_score(y_test, y_pred_reduced)\n",
        "\n",
        "print(f'Reduced MSE: {mse_reduced:.2f}, Reduced R^2: {r2_reduced:.2f}')\n"
      ],
      "metadata": {
        "colab": {
          "base_uri": "https://localhost:8080/"
        },
        "id": "2BZQyoU9Yjsw",
        "outputId": "6be99d60-1f0b-44e4-9da5-ca1ced0c0d61"
      },
      "execution_count": 36,
      "outputs": [
        {
          "output_type": "stream",
          "name": "stdout",
          "text": [
            "Reduced MSE: 17154268.25, Reduced R^2: 0.75\n"
          ]
        }
      ]
    }
  ]
}